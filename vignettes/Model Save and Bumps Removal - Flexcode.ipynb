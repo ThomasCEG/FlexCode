{
 "cells": [
  {
   "cell_type": "markdown",
   "metadata": {},
   "source": [
    "This notebook is used to show:\n",
    "1. How to save and reload the Flexcode model so not to have to re-train it every time;\n",
    "2. How to select the best bump removal parameter from an array of potential value"
   ]
  },
  {
   "cell_type": "code",
   "execution_count": 1,
   "metadata": {},
   "outputs": [],
   "source": [
    "import flexcode\n",
    "import numpy as np\n",
    "import xgboost as xgb\n",
    "from flexcode.regression_models import XGBoost, CustomModel\n",
    "\n",
    "from matplotlib import pyplot as plt\n",
    "%matplotlib inline"
   ]
  },
  {
   "cell_type": "markdown",
   "metadata": {},
   "source": [
    "## Data Creation"
   ]
  },
  {
   "cell_type": "code",
   "execution_count": 2,
   "metadata": {},
   "outputs": [],
   "source": [
    "def generate_data(n_draws):\n",
    "    x = np.random.normal(0, 1, n_draws)\n",
    "    z = np.random.normal(x, 1, n_draws)\n",
    "    return x, z\n",
    "\n",
    "x_train, z_train = generate_data(1000)\n",
    "x_validation, z_validation = generate_data(1000)\n",
    "x_test, z_test = generate_data(1000)"
   ]
  },
  {
   "cell_type": "markdown",
   "metadata": {},
   "source": [
    "## Saving and Reload Model"
   ]
  },
  {
   "cell_type": "code",
   "execution_count": 3,
   "metadata": {},
   "outputs": [
    {
     "name": "stdout",
     "output_type": "stream",
     "text": [
      "1.3204763840926326\n",
      "1.315065820028842\n"
     ]
    }
   ],
   "source": [
    "# Parameterize model\n",
    "model = flexcode.FlexCodeModel(XGBoost, max_basis=31, basis_system=\"cosine\",\n",
    "                             regression_params={'max_depth': 3, 'learning_rate': 0.5, 'objective': 'reg:linear'})\n",
    "\n",
    "# Fit model and predict on test data\n",
    "model.fit(x_train, z_train)\n",
    "cdes_predict_xgb, z_grid = model.predict(x_test, n_grid=200)\n",
    "\n",
    "# Show output some general values of the first two predictions\n",
    "# for further check\n",
    "print(np.max(cdes_predict_xgb[7, :]))\n",
    "print(np.max(cdes_predict_xgb[42, :]))"
   ]
  },
  {
   "cell_type": "code",
   "execution_count": 4,
   "metadata": {},
   "outputs": [
    {
     "data": {
      "text/plain": [
       "{'basis_system': 'cosine',\n",
       " 'best_basis': range(0, 31),\n",
       " 'bump_threshold': None,\n",
       " 'max_basis': 31,\n",
       " 'model': <flexcode.regression_models.XGBoost at 0x1173e35f8>,\n",
       " 'sharpen_alpha': None,\n",
       " 'z_max': array([4.98535658]),\n",
       " 'z_min': array([-4.84002112])}"
      ]
     },
     "execution_count": 4,
     "metadata": {},
     "output_type": "execute_result"
    }
   ],
   "source": [
    "# Print model parameters\n",
    "model.__dict__"
   ]
  },
  {
   "cell_type": "code",
   "execution_count": 5,
   "metadata": {},
   "outputs": [],
   "source": [
    "import pickle\n",
    "\n",
    "# Saving the model\n",
    "pickle.dump(file=open('flexcode_model.pkl', 'wb'), obj=model, \n",
    "            protocol=pickle.HIGHEST_PROTOCOL)"
   ]
  },
  {
   "cell_type": "code",
   "execution_count": 6,
   "metadata": {},
   "outputs": [],
   "source": [
    "# Reaload the model\n",
    "model_reloaded = pickle.load(open('flexcode_model.pkl', 'rb'))\n",
    "\n",
    "# Predict again\n",
    "cdes_predict_xgb_reloaded, z_grid = model_reloaded.predict(x_test, n_grid=200)"
   ]
  },
  {
   "cell_type": "code",
   "execution_count": 7,
   "metadata": {},
   "outputs": [
    {
     "name": "stdout",
     "output_type": "stream",
     "text": [
      "1.3204763840926326\n",
      "1.315065820028842\n"
     ]
    }
   ],
   "source": [
    "# Same output as above\n",
    "print(np.max(cdes_predict_xgb_reloaded[7, :]))\n",
    "print(np.max(cdes_predict_xgb_reloaded[42, :]))"
   ]
  },
  {
   "cell_type": "code",
   "execution_count": 8,
   "metadata": {},
   "outputs": [
    {
     "data": {
      "text/plain": [
       "{'basis_system': 'cosine',\n",
       " 'best_basis': range(0, 31),\n",
       " 'bump_threshold': None,\n",
       " 'max_basis': 31,\n",
       " 'model': <flexcode.regression_models.XGBoost at 0x1173d2b38>,\n",
       " 'sharpen_alpha': None,\n",
       " 'z_max': array([4.98535658]),\n",
       " 'z_min': array([-4.84002112])}"
      ]
     },
     "execution_count": 8,
     "metadata": {},
     "output_type": "execute_result"
    }
   ],
   "source": [
    "# Print parameters of the reloaded model\n",
    "model_reloaded.__dict__"
   ]
  },
  {
   "cell_type": "markdown",
   "metadata": {},
   "source": [
    "## Spurious Bump Removal - Tune Using Validation Data"
   ]
  },
  {
   "cell_type": "code",
   "execution_count": 9,
   "metadata": {},
   "outputs": [
    {
     "name": "stdout",
     "output_type": "stream",
     "text": [
      "[0.01 0.02 0.03 0.04 0.05 0.06 0.07 0.08 0.09 0.1  0.11 0.12 0.13 0.14\n",
      " 0.15 0.16 0.17 0.18 0.19 0.2 ]\n"
     ]
    }
   ],
   "source": [
    "# Define a grid of values to tune over\n",
    "bump_removal_grid = np.linspace(0.01, 0.2, 20)\n",
    "print(bump_removal_grid)"
   ]
  },
  {
   "cell_type": "code",
   "execution_count": 10,
   "metadata": {},
   "outputs": [],
   "source": [
    "# Parameterize model\n",
    "model = flexcode.FlexCodeModel(XGBoost, max_basis=31, basis_system=\"cosine\",\n",
    "                             regression_params={'max_depth': 3, 'learning_rate': 0.5, 'objective': 'reg:linear'})\n",
    "\n",
    "# Fit model\n",
    "model.fit(x_train, z_train)"
   ]
  },
  {
   "cell_type": "code",
   "execution_count": 11,
   "metadata": {},
   "outputs": [],
   "source": [
    "# Tune the model - the bump removal grid is passed directly \n",
    "# in the tune function\n",
    "\n",
    "model.tune(x_validation, z_validation, \n",
    "           bump_threshold_grid=bump_removal_grid)"
   ]
  },
  {
   "cell_type": "markdown",
   "metadata": {},
   "source": [
    "Under the hood, it selects the bump value corresponding to the smallest CDE loss on the validation data.\n",
    "\n",
    "The best value is accessible among the attributes of the model, as below:"
   ]
  },
  {
   "cell_type": "code",
   "execution_count": 12,
   "metadata": {},
   "outputs": [
    {
     "data": {
      "text/plain": [
       "0.01"
      ]
     },
     "execution_count": 12,
     "metadata": {},
     "output_type": "execute_result"
    }
   ],
   "source": [
    "model.bump_threshold"
   ]
  }
 ],
 "metadata": {
  "kernelspec": {
   "display_name": "Python 3",
   "language": "python",
   "name": "python3"
  },
  "language_info": {
   "codemirror_mode": {
    "name": "ipython",
    "version": 3
   },
   "file_extension": ".py",
   "mimetype": "text/x-python",
   "name": "python",
   "nbconvert_exporter": "python",
   "pygments_lexer": "ipython3",
   "version": "3.5.2"
  }
 },
 "nbformat": 4,
 "nbformat_minor": 2
}
